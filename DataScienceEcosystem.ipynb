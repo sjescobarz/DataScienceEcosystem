{
 "cells": [
  {
   "cell_type": "markdown",
   "id": "14634ad0-c715-48c1-ace4-373b3d0974b4",
   "metadata": {},
   "source": [
    "# Data Science Tools and Ecosystem"
   ]
  },
  {
   "cell_type": "markdown",
   "id": "cab35e52-85c1-4789-a036-bf931ceb62bc",
   "metadata": {},
   "source": [
    "In this notebook, Data Science Tools and Ecosystem are summarized."
   ]
  },
  {
   "cell_type": "markdown",
   "id": "c8130f78-f21e-4c27-bd6e-5a26bd540762",
   "metadata": {},
   "source": [
    "Some popular languages that Data Scientists use are:\n",
    "1. Python\n",
    "2. R\n",
    "3. SQL"
   ]
  },
  {
   "cell_type": "markdown",
   "id": "4141d25f-7fa4-4e90-85b9-aff858349193",
   "metadata": {},
   "source": [
    "Some of the commonly used libraries used by Data Scientists include:\n",
    "1. NumPy\n",
    "2. Pandas\n",
    "3. Matplotlib\n"
   ]
  },
  {
   "cell_type": "markdown",
   "id": "f471e5e4-6fb8-45cd-9106-bb15aa3063bc",
   "metadata": {},
   "source": [
    "| Data Science Tools |\n",
    "|--------------------|\n",
    "| Jupyter Notebook   |\n",
    "| RStudio            |\n",
    "| Apache Zeppelin    |\n"
   ]
  },
  {
   "cell_type": "raw",
   "id": "5b87257c-0065-478e-96c3-844137aef1ed",
   "metadata": {},
   "source": [
    "### Below are a few examples of evaluating arithmetic expressions in Python.\n"
   ]
  },
  {
   "cell_type": "code",
   "execution_count": 6,
   "id": "7522bd95-96cc-4fb5-9d4f-8a6bc1ca02ec",
   "metadata": {},
   "outputs": [
    {
     "data": {
      "text/plain": [
       "17"
      ]
     },
     "execution_count": 6,
     "metadata": {},
     "output_type": "execute_result"
    }
   ],
   "source": [
    "# This a simple arithmetic expression to multiply then add integers\n",
    "(3*4)+5\n"
   ]
  },
  {
   "cell_type": "code",
   "execution_count": 8,
   "id": "1b8d0ae8-ce83-4591-aca9-682798b0ba56",
   "metadata": {},
   "outputs": [
    {
     "data": {
      "text/plain": [
       "3.3333333333333335"
      ]
     },
     "execution_count": 8,
     "metadata": {},
     "output_type": "execute_result"
    }
   ],
   "source": [
    "# This will convert 200 minutes to hours by dividing by 60\n",
    "200 / 60\n"
   ]
  },
  {
   "cell_type": "markdown",
   "id": "7498df2c-7018-4ff2-9e85-ba285a339bf5",
   "metadata": {},
   "source": [
    "**Objectives:**\n",
    "- List popular languages for Data Science\n",
    "- Introduce commonly used libraries\n",
    "- Provide examples of arithmetic expressions\n",
    "- Highlight development tools\n"
   ]
  },
  {
   "cell_type": "markdown",
   "id": "cb0b16f4-35ee-4080-90f6-595fc16e0815",
   "metadata": {},
   "source": [
    "## Author  \n",
    "Silvia J Escobar "
   ]
  },
  {
   "cell_type": "code",
   "execution_count": null,
   "id": "6039f66b-f42c-46af-823d-d9efd1f123ea",
   "metadata": {},
   "outputs": [],
   "source": []
  }
 ],
 "metadata": {
  "kernelspec": {
   "display_name": "Python [conda env:base] *",
   "language": "python",
   "name": "conda-base-py"
  },
  "language_info": {
   "codemirror_mode": {
    "name": "ipython",
    "version": 3
   },
   "file_extension": ".py",
   "mimetype": "text/x-python",
   "name": "python",
   "nbconvert_exporter": "python",
   "pygments_lexer": "ipython3",
   "version": "3.12.7"
  }
 },
 "nbformat": 4,
 "nbformat_minor": 5
}
